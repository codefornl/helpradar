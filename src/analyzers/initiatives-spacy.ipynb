{
 "cells": [
  {
   "cell_type": "code",
   "execution_count": 1,
   "metadata": {},
   "outputs": [
    {
     "name": "stderr",
     "output_type": "stream",
     "text": [
      "unable to import 'smart_open.gcs', disabling that module\n"
     ]
    }
   ],
   "source": [
    "import sqlite3\n",
    "import pandas as pd\n",
    "import spacy\n",
    "import re\n",
    "import numpy as np\n",
    "from sklearn.feature_extraction.text import TfidfTransformer, TfidfVectorizer, CountVectorizer\n",
    "from sklearn.tree import DecisionTreeClassifier\n",
    "from sklearn.preprocessing import LabelEncoder\n",
    "from sklearn.svm import LinearSVC\n",
    "from sklearn.model_selection import train_test_split\n",
    "from matplotlib import pyplot as plt\n",
    "from gensim import corpora\n",
    "import gensim\n",
    "import pickle"
   ]
  },
  {
   "cell_type": "code",
   "execution_count": 23,
   "metadata": {},
   "outputs": [],
   "source": [
    "pd.set_option('display.max_colwidth', None)\n",
    "nlp = spacy.load('nl_core_news_sm')"
   ]
  },
  {
   "cell_type": "markdown",
   "metadata": {},
   "source": [
    "## Discover the data"
   ]
  },
  {
   "cell_type": "code",
   "execution_count": 3,
   "metadata": {},
   "outputs": [],
   "source": [
    "con = sqlite3.connect(\"corona-data.db\")\n",
    "df = pd.read_sql_query(\"SELECT * FROM initiatives\", con, index_col = 'id')"
   ]
  },
  {
   "cell_type": "markdown",
   "metadata": {},
   "source": [
    "## NLP preprocessing"
   ]
  },
  {
   "cell_type": "code",
   "execution_count": 6,
   "metadata": {},
   "outputs": [],
   "source": [
    "def lemmatization(texts, tags=['NOUN', 'ADJ']): # filter noun and adjective\n",
    "    doc = nlp(texts)\n",
    "    output= [token.lemma_ for token in doc if token.pos_ in tags]\n",
    "    return output"
   ]
  },
  {
   "cell_type": "code",
   "execution_count": 8,
   "metadata": {},
   "outputs": [],
   "source": [
    "zoekwoorden = {\n",
    "'vraag': [\"demand\", \"vraag\", \"hulpvraag\"],\n",
    "'aanbod' : [\"aangeboden\", \"hulpaanbod\", \"aanbod\"]\n",
    "}\n",
    "    \n",
    "def check_regex(x):\n",
    "    x = re.sub( '[^a-z0-9]', ' ', str(x).lower())\n",
    "    antwoord = []\n",
    "    for label, keywords in zoekwoorden.items():\n",
    "        li = [label for w in x.split() if w in keywords]\n",
    "        if len(li) != 0:\n",
    "            antwoord.append(li[0])\n",
    "    return \" \".join(antwoord)"
   ]
  },
  {
   "cell_type": "code",
   "execution_count": 9,
   "metadata": {},
   "outputs": [],
   "source": [
    "def startpipeline(dataf):\n",
    "    return dataf.copy()\n",
    "\n",
    "def preprocess_data(dataf):\n",
    "    dataf['description'] = dataf['description'].astype(str)\n",
    "    dataf['group'] = dataf['group'].str.lower()\n",
    "    return dataf\n",
    "\n",
    "def add_labels(dataf):\n",
    "    dataf['label'] = dataf['group'].apply(check_regex)\n",
    "    return dataf\n",
    "\n",
    "def nlp_cleaning(dataf):\n",
    "    dataf['lemma']= dataf['description'].apply(lemmatization)\n",
    "    dataf['stemmed'] = dataf['lemma'].str.join(\" \")\n",
    "    return dataf\n",
    "\n",
    "def tokenize(dataf):\n",
    "    data\n",
    "\n",
    "df_result = (df\n",
    ".pipe(startpipeline)\n",
    ".pipe(preprocess_data)\n",
    ".pipe(add_labels)\n",
    ".pipe(nlp_cleaning))"
   ]
  },
  {
   "cell_type": "code",
   "execution_count": 10,
   "metadata": {},
   "outputs": [
    {
     "data": {
      "text/html": [
       "<div>\n",
       "<style scoped>\n",
       "    .dataframe tbody tr th:only-of-type {\n",
       "        vertical-align: middle;\n",
       "    }\n",
       "\n",
       "    .dataframe tbody tr th {\n",
       "        vertical-align: top;\n",
       "    }\n",
       "\n",
       "    .dataframe thead th {\n",
       "        text-align: right;\n",
       "    }\n",
       "</style>\n",
       "<table border=\"1\" class=\"dataframe\">\n",
       "  <thead>\n",
       "    <tr style=\"text-align: right;\">\n",
       "      <th></th>\n",
       "      <th>category</th>\n",
       "      <th>group</th>\n",
       "      <th>description</th>\n",
       "      <th>name</th>\n",
       "      <th>source</th>\n",
       "      <th>source_id</th>\n",
       "      <th>frequency</th>\n",
       "      <th>location</th>\n",
       "      <th>latitude</th>\n",
       "      <th>longitude</th>\n",
       "      <th>osm_address</th>\n",
       "      <th>label</th>\n",
       "      <th>lemma</th>\n",
       "      <th>stemmed</th>\n",
       "    </tr>\n",
       "    <tr>\n",
       "      <th>id</th>\n",
       "      <th></th>\n",
       "      <th></th>\n",
       "      <th></th>\n",
       "      <th></th>\n",
       "      <th></th>\n",
       "      <th></th>\n",
       "      <th></th>\n",
       "      <th></th>\n",
       "      <th></th>\n",
       "      <th></th>\n",
       "      <th></th>\n",
       "      <th></th>\n",
       "      <th></th>\n",
       "      <th></th>\n",
       "    </tr>\n",
       "  </thead>\n",
       "  <tbody>\n",
       "    <tr>\n",
       "      <th>1</th>\n",
       "      <td>Producten</td>\n",
       "      <td>demand</td>\n",
       "      <td>Talloze instellingen, thuiszorgorganisaties en ziekenhuizen hebben te kort aan spatbrillen,  vuurwerkbrillen en veiligheidsbrillen voldoen hier aan. Dus bij deze een oproep om deze brillen te doneren voor de strijd  tegen corona.\\n\\t\\t\\t\\t    \\n\\t\\t\\t\\t\\t\\t\\t    Voor deze hulpvraag zoeken we meerdere helden</td>\n",
       "      <td>None</td>\n",
       "      <td>https://heldnodig.nl/</td>\n",
       "      <td>None</td>\n",
       "      <td>None</td>\n",
       "      <td>1949CK Wijk aan Zee</td>\n",
       "      <td>52.490708</td>\n",
       "      <td>4.602380</td>\n",
       "      <td>Wijk aan Zee, Beverwijk, Noord-Holland, Nederland</td>\n",
       "      <td>vraag</td>\n",
       "      <td>[instelling, thuiszorgorganisatie, ziekenhuis, spatbrill, vuurwerkbrill, veiligheidsbril, oproep, bril, strijd, corona, hulpvraag, held]</td>\n",
       "      <td>instelling thuiszorgorganisatie ziekenhuis spatbrill vuurwerkbrill veiligheidsbril oproep bril strijd corona hulpvraag held</td>\n",
       "    </tr>\n",
       "    <tr>\n",
       "      <th>2</th>\n",
       "      <td>Overig</td>\n",
       "      <td>demand</td>\n",
       "      <td>Hoi mede helden\\r\\nMijn dochter moet 31 maart haar particuliere woning uit omdat het contract verloopt . En zeker nu in deze tijd is niks te krijgen en is ze volgens woningbouw GEEN URGENT   bent U of kent U iemand in uw omgeving die een (koop)huis leeg heeft staan in de westelijke mijnstreek  en zij het kunnen huren voor een korte periode neem dan aub contact met mij op anders staan ze over 11 dagen op straat met 3 kleine kinderen van 2, 1 en 0 jaar \\r\\n\\r\\nMijn dank is groot\\r\\n\\n\\t\\t\\t\\t    \\n\\t\\t\\t\\t\\t\\t\\t    Voor deze hulpvraag zoeken we meerdere helden</td>\n",
       "      <td>None</td>\n",
       "      <td>https://heldnodig.nl/</td>\n",
       "      <td>None</td>\n",
       "      <td>None</td>\n",
       "      <td>6109AH Ohe en Laak</td>\n",
       "      <td>51.112323</td>\n",
       "      <td>5.822576</td>\n",
       "      <td>Ohé en Laak, Maasgouw, Limburg, Nederland</td>\n",
       "      <td>vraag</td>\n",
       "      <td>[dochter, particulier, woning, contract, zeker, tijd, woningbouw, ge, omgeving, koop, huis, leeg, westelijk, mijnstreek, kort, periode, aub, dag, straat, klein, kind, jaar, dank, groot, hulpvraag, held]</td>\n",
       "      <td>dochter particulier woning contract zeker tijd woningbouw ge omgeving koop huis leeg westelijk mijnstreek kort periode aub dag straat klein kind jaar dank groot hulpvraag held</td>\n",
       "    </tr>\n",
       "    <tr>\n",
       "      <th>3</th>\n",
       "      <td>Boodschappen</td>\n",
       "      <td>demand</td>\n",
       "      <td>Ik zoek voor een meneer in zaltbommel, iemand die 1x in de week/1x in de 2 weken grote, zware boodschappen kan halen bij de jumbo. Dhr is zelf chronisch ziek en het is beter dat hij niet zelf naar de supermarkt gaat. \\n\\t\\t\\t\\t    \\n\\t\\t\\t\\t\\t\\t\\t    Voor deze hulpvraag zoeken we meerdere helden</td>\n",
       "      <td>None</td>\n",
       "      <td>https://heldnodig.nl/</td>\n",
       "      <td>None</td>\n",
       "      <td>None</td>\n",
       "      <td>5301BZ Zaltbommel</td>\n",
       "      <td>51.806658</td>\n",
       "      <td>5.241120</td>\n",
       "      <td>Zaltbommel, Gelderland, Nederland</td>\n",
       "      <td>vraag</td>\n",
       "      <td>[meneer, zaltbommel, week/1x, week, groot, zwaar, boodschap, jumbo, dhr, chronisch, ziek, goed, supermarkt, hulpvraag, held]</td>\n",
       "      <td>meneer zaltbommel week/1x week groot zwaar boodschap jumbo dhr chronisch ziek goed supermarkt hulpvraag held</td>\n",
       "    </tr>\n",
       "    <tr>\n",
       "      <th>4</th>\n",
       "      <td>Producten</td>\n",
       "      <td>demand</td>\n",
       "      <td>Thuiszorgorganisatie Amstelring Wijkzorg is dringend op zoek naar beschermingsmateriaal:\\n- wegwerphandschoenen\\n- Schorten met lange mouwen\\n- mondmaskers met keurmerk FFP1, FFP2, FFP3\\n- Handalcohol\\n- Veiligheidsbrillen\\nAlles is welkom!\\n\\t\\t\\t\\t    \\n\\t\\t\\t\\t\\t\\t\\t    Voor deze hulpvraag zoeken we meerdere helden</td>\n",
       "      <td>None</td>\n",
       "      <td>https://heldnodig.nl/</td>\n",
       "      <td>None</td>\n",
       "      <td>None</td>\n",
       "      <td>1186DK Amstelveen</td>\n",
       "      <td>52.286218</td>\n",
       "      <td>4.852649</td>\n",
       "      <td>Amstelveen, Noord-Holland, Nederland</td>\n",
       "      <td>vraag</td>\n",
       "      <td>[thuiszorgorganisatie, dringend, schort, lang, mouw, mondmasker, keurmerk, ffp1, ffp2, ffp3, veiligheidsbril, welkom, hulpvraag, held]</td>\n",
       "      <td>thuiszorgorganisatie dringend schort lang mouw mondmasker keurmerk ffp1 ffp2 ffp3 veiligheidsbril welkom hulpvraag held</td>\n",
       "    </tr>\n",
       "    <tr>\n",
       "      <th>5</th>\n",
       "      <td>Producten</td>\n",
       "      <td>demand</td>\n",
       "      <td>Wij zoeken voor de voedselbank veel producten. Door het virus zijn onze vaste leveranciers flink afgenomen. Wie zou ons kunnen helpen aan meer voedsel voor onze pakketten?\\n\\t\\t\\t\\t    \\n\\t\\t\\t\\t\\t\\t\\t    Voor deze hulpvraag zoeken we meerdere helden</td>\n",
       "      <td>None</td>\n",
       "      <td>https://heldnodig.nl/</td>\n",
       "      <td>None</td>\n",
       "      <td>None</td>\n",
       "      <td>5171DT Kaatsheuvel</td>\n",
       "      <td>51.658507</td>\n",
       "      <td>5.045126</td>\n",
       "      <td>Kaatsheuvel, Loon op Zand, Noord-Brabant, Nederland</td>\n",
       "      <td>vraag</td>\n",
       "      <td>[voedselbank, product, virus, vast, leverancier, flink, voedsel, pakket, hulpvraag, held]</td>\n",
       "      <td>voedselbank product virus vast leverancier flink voedsel pakket hulpvraag held</td>\n",
       "    </tr>\n",
       "  </tbody>\n",
       "</table>\n",
       "</div>"
      ],
      "text/plain": [
       "        category   group  \\\n",
       "id                         \n",
       "1      Producten  demand   \n",
       "2         Overig  demand   \n",
       "3   Boodschappen  demand   \n",
       "4      Producten  demand   \n",
       "5      Producten  demand   \n",
       "\n",
       "                                                                                                                                                                                                                                                                                                                                                                                                                                                                                                                                                                             description  \\\n",
       "id                                                                                                                                                                                                                                                                                                                                                                                                                                                                                                                                                                                         \n",
       "1                                                                                                                                                                                                                                                                   Talloze instellingen, thuiszorgorganisaties en ziekenhuizen hebben te kort aan spatbrillen,  vuurwerkbrillen en veiligheidsbrillen voldoen hier aan. Dus bij deze een oproep om deze brillen te doneren voor de strijd  tegen corona.\\n\\t\\t\\t\\t    \\n\\t\\t\\t\\t\\t\\t\\t    Voor deze hulpvraag zoeken we meerdere helden   \n",
       "2   Hoi mede helden\\r\\nMijn dochter moet 31 maart haar particuliere woning uit omdat het contract verloopt . En zeker nu in deze tijd is niks te krijgen en is ze volgens woningbouw GEEN URGENT   bent U of kent U iemand in uw omgeving die een (koop)huis leeg heeft staan in de westelijke mijnstreek  en zij het kunnen huren voor een korte periode neem dan aub contact met mij op anders staan ze over 11 dagen op straat met 3 kleine kinderen van 2, 1 en 0 jaar \\r\\n\\r\\nMijn dank is groot\\r\\n\\n\\t\\t\\t\\t    \\n\\t\\t\\t\\t\\t\\t\\t    Voor deze hulpvraag zoeken we meerdere helden   \n",
       "3                                                                                                                                                                                                                                                                               Ik zoek voor een meneer in zaltbommel, iemand die 1x in de week/1x in de 2 weken grote, zware boodschappen kan halen bij de jumbo. Dhr is zelf chronisch ziek en het is beter dat hij niet zelf naar de supermarkt gaat. \\n\\t\\t\\t\\t    \\n\\t\\t\\t\\t\\t\\t\\t    Voor deze hulpvraag zoeken we meerdere helden   \n",
       "4                                                                                                                                                                                                                                                        Thuiszorgorganisatie Amstelring Wijkzorg is dringend op zoek naar beschermingsmateriaal:\\n- wegwerphandschoenen\\n- Schorten met lange mouwen\\n- mondmaskers met keurmerk FFP1, FFP2, FFP3\\n- Handalcohol\\n- Veiligheidsbrillen\\nAlles is welkom!\\n\\t\\t\\t\\t    \\n\\t\\t\\t\\t\\t\\t\\t    Voor deze hulpvraag zoeken we meerdere helden   \n",
       "5                                                                                                                                                                                                                                                                                                                             Wij zoeken voor de voedselbank veel producten. Door het virus zijn onze vaste leveranciers flink afgenomen. Wie zou ons kunnen helpen aan meer voedsel voor onze pakketten?\\n\\t\\t\\t\\t    \\n\\t\\t\\t\\t\\t\\t\\t    Voor deze hulpvraag zoeken we meerdere helden   \n",
       "\n",
       "    name                 source source_id frequency              location  \\\n",
       "id                                                                          \n",
       "1   None  https://heldnodig.nl/      None      None  1949CK Wijk aan Zee    \n",
       "2   None  https://heldnodig.nl/      None      None   6109AH Ohe en Laak    \n",
       "3   None  https://heldnodig.nl/      None      None    5301BZ Zaltbommel    \n",
       "4   None  https://heldnodig.nl/      None      None    1186DK Amstelveen    \n",
       "5   None  https://heldnodig.nl/      None      None   5171DT Kaatsheuvel    \n",
       "\n",
       "     latitude  longitude                                          osm_address  \\\n",
       "id                                                                              \n",
       "1   52.490708   4.602380    Wijk aan Zee, Beverwijk, Noord-Holland, Nederland   \n",
       "2   51.112323   5.822576            Ohé en Laak, Maasgouw, Limburg, Nederland   \n",
       "3   51.806658   5.241120                    Zaltbommel, Gelderland, Nederland   \n",
       "4   52.286218   4.852649                 Amstelveen, Noord-Holland, Nederland   \n",
       "5   51.658507   5.045126  Kaatsheuvel, Loon op Zand, Noord-Brabant, Nederland   \n",
       "\n",
       "    label  \\\n",
       "id          \n",
       "1   vraag   \n",
       "2   vraag   \n",
       "3   vraag   \n",
       "4   vraag   \n",
       "5   vraag   \n",
       "\n",
       "                                                                                                                                                                                                         lemma  \\\n",
       "id                                                                                                                                                                                                               \n",
       "1                                                                     [instelling, thuiszorgorganisatie, ziekenhuis, spatbrill, vuurwerkbrill, veiligheidsbril, oproep, bril, strijd, corona, hulpvraag, held]   \n",
       "2   [dochter, particulier, woning, contract, zeker, tijd, woningbouw, ge, omgeving, koop, huis, leeg, westelijk, mijnstreek, kort, periode, aub, dag, straat, klein, kind, jaar, dank, groot, hulpvraag, held]   \n",
       "3                                                                                 [meneer, zaltbommel, week/1x, week, groot, zwaar, boodschap, jumbo, dhr, chronisch, ziek, goed, supermarkt, hulpvraag, held]   \n",
       "4                                                                       [thuiszorgorganisatie, dringend, schort, lang, mouw, mondmasker, keurmerk, ffp1, ffp2, ffp3, veiligheidsbril, welkom, hulpvraag, held]   \n",
       "5                                                                                                                    [voedselbank, product, virus, vast, leverancier, flink, voedsel, pakket, hulpvraag, held]   \n",
       "\n",
       "                                                                                                                                                                            stemmed  \n",
       "id                                                                                                                                                                                   \n",
       "1                                                       instelling thuiszorgorganisatie ziekenhuis spatbrill vuurwerkbrill veiligheidsbril oproep bril strijd corona hulpvraag held  \n",
       "2   dochter particulier woning contract zeker tijd woningbouw ge omgeving koop huis leeg westelijk mijnstreek kort periode aub dag straat klein kind jaar dank groot hulpvraag held  \n",
       "3                                                                      meneer zaltbommel week/1x week groot zwaar boodschap jumbo dhr chronisch ziek goed supermarkt hulpvraag held  \n",
       "4                                                           thuiszorgorganisatie dringend schort lang mouw mondmasker keurmerk ffp1 ffp2 ffp3 veiligheidsbril welkom hulpvraag held  \n",
       "5                                                                                                    voedselbank product virus vast leverancier flink voedsel pakket hulpvraag held  "
      ]
     },
     "execution_count": 10,
     "metadata": {},
     "output_type": "execute_result"
    }
   ],
   "source": [
    "df_result.head()"
   ]
  },
  {
   "cell_type": "code",
   "execution_count": 11,
   "metadata": {},
   "outputs": [
    {
     "data": {
      "text/plain": [
       "<matplotlib.axes._subplots.AxesSubplot at 0x1ea092dddf0>"
      ]
     },
     "execution_count": 11,
     "metadata": {},
     "output_type": "execute_result"
    },
    {
     "data": {
      "image/png": "[encoded data removed]",
      "text/plain": [
       "<Figure size 432x288 with 1 Axes>"
      ]
     },
     "metadata": {
      "needs_background": "light"
     },
     "output_type": "display_data"
    }
   ],
   "source": [
    "df_result['label'].hist()"
   ]
  },
  {
   "cell_type": "markdown",
   "metadata": {},
   "source": [
    "## Classificatie"
   ]
  },
  {
   "cell_type": "code",
   "execution_count": 12,
   "metadata": {},
   "outputs": [],
   "source": [
    "\n",
    "vectoriser = TfidfVectorizer()\n",
    "df_result['vectors'] = list(vectoriser.fit_transform(df_result['stemmed']).toarray())\n"
   ]
  },
  {
   "cell_type": "code",
   "execution_count": 13,
   "metadata": {},
   "outputs": [],
   "source": [
    "df_train = df_result[df_result['label'] != \"\"].copy()\n",
    "df_predict = df_result[df_result['label'] == \"\"].copy()"
   ]
  },
  {
   "cell_type": "code",
   "execution_count": 14,
   "metadata": {},
   "outputs": [
    {
     "data": {
      "text/plain": [
       "array(['aanbod', 'vraag'], dtype=object)"
      ]
     },
     "execution_count": 14,
     "metadata": {},
     "output_type": "execute_result"
    }
   ],
   "source": [
    "enc = LabelEncoder()\n",
    "encoded_labels = enc.fit_transform(df_train['label'])\n",
    "enc.classes_"
   ]
  },
  {
   "cell_type": "code",
   "execution_count": 15,
   "metadata": {},
   "outputs": [],
   "source": [
    "X_train, X_test, y_train, y_test = train_test_split(df_train['vectors'].to_list(), encoded_labels, test_size=0.2)"
   ]
  },
  {
   "cell_type": "code",
   "execution_count": 16,
   "metadata": {},
   "outputs": [],
   "source": [
    "# model = DecisionTreeClassifier()\n",
    "model = LinearSVC()\n",
    "model.fit(X_train, y_train)\n",
    "predictions = model.predict(X_test)"
   ]
  },
  {
   "cell_type": "code",
   "execution_count": 17,
   "metadata": {},
   "outputs": [
    {
     "data": {
      "text/plain": [
       "0.9090909090909091"
      ]
     },
     "execution_count": 17,
     "metadata": {},
     "output_type": "execute_result"
    }
   ],
   "source": [
    "model.score(X_test, y_test)"
   ]
  },
  {
   "cell_type": "markdown",
   "metadata": {},
   "source": [
    "Word2Vec"
   ]
  },
  {
   "cell_type": "code",
   "execution_count": null,
   "metadata": {},
   "outputs": [],
   "source": []
  },
  {
   "cell_type": "code",
   "execution_count": null,
   "metadata": {},
   "outputs": [],
   "source": []
  },
  {
   "cell_type": "code",
   "execution_count": null,
   "metadata": {},
   "outputs": [],
   "source": []
  },
  {
   "cell_type": "markdown",
   "metadata": {},
   "source": [
    "## Topic modelling"
   ]
  },
  {
   "cell_type": "markdown",
   "metadata": {},
   "source": [
    "https://towardsdatascience.com/topic-modelling-in-python-with-nltk-and-gensim-4ef03213cd21"
   ]
  },
  {
   "cell_type": "code",
   "execution_count": 18,
   "metadata": {},
   "outputs": [],
   "source": [
    "text_data = df_result['lemma']\n",
    "dictionary = corpora.Dictionary(text_data)\n",
    "corpus = [dictionary.doc2bow(text) for text in text_data]\n",
    "pickle.dump(corpus, open('corpus.pkl', 'wb'))\n",
    "dictionary.save('dictionary.gensim')"
   ]
  },
  {
   "cell_type": "code",
   "execution_count": 19,
   "metadata": {},
   "outputs": [
    {
     "name": "stdout",
     "output_type": "stream",
     "text": [
      "(0, '0.034*\"mens\" + 0.021*\"hulp\" + 0.012*\"boodschap\" + 0.012*\"tijd\" + 0.012*\"vrijwilliger\" + 0.011*\"contact\" + 0.011*\"corona\"')\n",
      "(1, '0.019*\"boodschap\" + 0.018*\"hulp\" + 0.014*\"oud\" + 0.014*\"nodig\" + 0.011*\"moeder\" + 0.011*\"tijd\" + 0.010*\"graag\"')\n",
      "(2, '0.024*\"oud\" + 0.023*\"bewoner\" + 0.021*\"kaart\" + 0.013*\"mooi\" + 0.011*\"mens\" + 0.011*\"leuk\" + 0.010*\"bezoek\"')\n",
      "(3, '0.010*\"kaart\" + 0.009*\"oud\" + 0.009*\"mens\" + 0.008*\"mondkapje\" + 0.008*\"functie\" + 0.008*\"omschrijving\" + 0.006*\"leuk\"')\n",
      "(4, '0.054*\"none\" + 0.032*\"functie\" + 0.031*\"omschrijving\" + 0.022*\"vrijwilliger\" + 0.009*\"mens\" + 0.007*\"maaltijd\" + 0.006*\"leuk\"')\n"
     ]
    }
   ],
   "source": [
    "\n",
    "# 5 topics\n",
    "NUM_TOPICS = 5\n",
    "ldamodel = gensim.models.ldamodel.LdaModel(corpus, num_topics = NUM_TOPICS, id2word=dictionary, passes=30)\n",
    "ldamodel.save('model5.gensim')\n",
    "topics = ldamodel.print_topics(num_words=7)\n",
    "for topic in topics:\n",
    "    print(topic)"
   ]
  },
  {
   "cell_type": "code",
   "execution_count": 20,
   "metadata": {},
   "outputs": [
    {
     "name": "stdout",
     "output_type": "stream",
     "text": [
      "(0, '0.025*\"mens\" + 0.012*\"leuk\" + 0.010*\"hulp\" + 0.009*\"functie\"')\n",
      "(1, '0.019*\"oud\" + 0.018*\"hulp\" + 0.015*\"mens\" + 0.013*\"boodschap\"')\n",
      "(2, '0.030*\"none\" + 0.015*\"vrijwilliger\" + 0.015*\"tijd\" + 0.013*\"oud\"')\n"
     ]
    }
   ],
   "source": [
    "# three topics\n",
    "ldamodel = gensim.models.ldamodel.LdaModel(corpus, num_topics = 3, id2word=dictionary, passes=15)\n",
    "ldamodel.save('model3.gensim')\n",
    "topics = ldamodel.print_topics(num_words=4)\n",
    "for topic in topics:\n",
    "    print(topic)"
   ]
  },
  {
   "cell_type": "code",
   "execution_count": 28,
   "metadata": {},
   "outputs": [
    {
     "name": "stdout",
     "output_type": "stream",
     "text": [
      "(0, '0.022*\"vrijwilliger\" + 0.017*\"corona\" + 0.017*\"graag\" + 0.016*\"week\"')\n",
      "(1, '0.120*\"none\" + 0.011*\"vrijwilliger\" + 0.010*\"omschrijving\" + 0.010*\"functie\"')\n",
      "(2, '0.025*\"mens\" + 0.021*\"kind\" + 0.015*\"functie\" + 0.015*\"leuk\"')\n",
      "(3, '0.034*\"oud\" + 0.022*\"kaart\" + 0.017*\"mooi\" + 0.015*\"leuk\"')\n",
      "(4, '0.023*\"vrijwilliger\" + 0.013*\"mondkapje\" + 0.012*\"boodschap\" + 0.011*\"jong\"')\n",
      "(5, '0.011*\"oppas\" + 0.010*\"oud\" + 0.010*\"nodig\" + 0.009*\"zorg\"')\n",
      "(6, '0.030*\"bewoner\" + 0.024*\"kaart\" + 0.016*\"tijd\" + 0.014*\"moeilijk\"')\n",
      "(7, '0.022*\"mens\" + 0.022*\"maaltijd\" + 0.016*\"vrijwilliger\" + 0.011*\"omschrijving\"')\n",
      "(8, '0.036*\"hulp\" + 0.033*\"mens\" + 0.022*\"boodschap\" + 0.015*\"oud\"')\n",
      "(9, '0.022*\"mens\" + 0.010*\"tijd\" + 0.009*\"graag\" + 0.009*\"hulp\"')\n"
     ]
    }
   ],
   "source": [
    "# 10 topics\n",
    "ldamodel = gensim.models.ldamodel.LdaModel(corpus, num_topics = 10, id2word=dictionary, passes=15)\n",
    "ldamodel.save('model10.gensim')\n",
    "topics = ldamodel.print_topics(num_words=4)\n",
    "for topic in topics:\n",
    "    print(topic)"
   ]
  },
  {
   "cell_type": "markdown",
   "metadata": {},
   "source": [
    "## TFIDF"
   ]
  },
  {
   "cell_type": "code",
   "execution_count": 24,
   "metadata": {},
   "outputs": [
    {
     "name": "stdout",
     "output_type": "stream",
     "text": [
      "sparse matrix shape:(735, 1408)\n",
      "nonzero count:7345\n",
      "sparsity: 0.7097441249226963\n"
     ]
    },
    {
     "data": {
      "text/html": [
       "<div>\n",
       "<style scoped>\n",
       "    .dataframe tbody tr th:only-of-type {\n",
       "        vertical-align: middle;\n",
       "    }\n",
       "\n",
       "    .dataframe tbody tr th {\n",
       "        vertical-align: top;\n",
       "    }\n",
       "\n",
       "    .dataframe thead th {\n",
       "        text-align: right;\n",
       "    }\n",
       "</style>\n",
       "<table border=\"1\" class=\"dataframe\">\n",
       "  <thead>\n",
       "    <tr style=\"text-align: right;\">\n",
       "      <th></th>\n",
       "      <th>term</th>\n",
       "      <th>occurrences</th>\n",
       "    </tr>\n",
       "  </thead>\n",
       "  <tbody>\n",
       "    <tr>\n",
       "      <th>699</th>\n",
       "      <td>leuk</td>\n",
       "      <td>89</td>\n",
       "    </tr>\n",
       "    <tr>\n",
       "      <th>155</th>\n",
       "      <td>boodschap</td>\n",
       "      <td>85</td>\n",
       "    </tr>\n",
       "    <tr>\n",
       "      <th>458</th>\n",
       "      <td>graag</td>\n",
       "      <td>81</td>\n",
       "    </tr>\n",
       "    <tr>\n",
       "      <th>1327</th>\n",
       "      <td>week</td>\n",
       "      <td>71</td>\n",
       "    </tr>\n",
       "    <tr>\n",
       "      <th>220</th>\n",
       "      <td>contact</td>\n",
       "      <td>67</td>\n",
       "    </tr>\n",
       "    <tr>\n",
       "      <th>589</th>\n",
       "      <td>kaart</td>\n",
       "      <td>66</td>\n",
       "    </tr>\n",
       "    <tr>\n",
       "      <th>111</th>\n",
       "      <td>bewoner</td>\n",
       "      <td>65</td>\n",
       "    </tr>\n",
       "    <tr>\n",
       "      <th>616</th>\n",
       "      <td>kind</td>\n",
       "      <td>64</td>\n",
       "    </tr>\n",
       "    <tr>\n",
       "      <th>403</th>\n",
       "      <td>functie omschrijving</td>\n",
       "      <td>64</td>\n",
       "    </tr>\n",
       "    <tr>\n",
       "      <th>874</th>\n",
       "      <td>nodig</td>\n",
       "      <td>63</td>\n",
       "    </tr>\n",
       "    <tr>\n",
       "      <th>447</th>\n",
       "      <td>goed</td>\n",
       "      <td>62</td>\n",
       "    </tr>\n",
       "    <tr>\n",
       "      <th>1385</th>\n",
       "      <td>zorg</td>\n",
       "      <td>57</td>\n",
       "    </tr>\n",
       "    <tr>\n",
       "      <th>266</th>\n",
       "      <td>dag</td>\n",
       "      <td>51</td>\n",
       "    </tr>\n",
       "    <tr>\n",
       "      <th>571</th>\n",
       "      <td>jaar</td>\n",
       "      <td>48</td>\n",
       "    </tr>\n",
       "    <tr>\n",
       "      <th>187</th>\n",
       "      <td>buurt</td>\n",
       "      <td>47</td>\n",
       "    </tr>\n",
       "    <tr>\n",
       "      <th>663</th>\n",
       "      <td>kwetsbaar</td>\n",
       "      <td>47</td>\n",
       "    </tr>\n",
       "    <tr>\n",
       "      <th>736</th>\n",
       "      <td>maaltijd</td>\n",
       "      <td>43</td>\n",
       "    </tr>\n",
       "    <tr>\n",
       "      <th>823</th>\n",
       "      <td>mogelijk</td>\n",
       "      <td>42</td>\n",
       "    </tr>\n",
       "    <tr>\n",
       "      <th>466</th>\n",
       "      <td>gratis</td>\n",
       "      <td>38</td>\n",
       "    </tr>\n",
       "    <tr>\n",
       "      <th>1284</th>\n",
       "      <td>vraag</td>\n",
       "      <td>38</td>\n",
       "    </tr>\n",
       "  </tbody>\n",
       "</table>\n",
       "</div>"
      ],
      "text/plain": [
       "                      term  occurrences\n",
       "699                   leuk           89\n",
       "155              boodschap           85\n",
       "458                  graag           81\n",
       "1327                  week           71\n",
       "220                contact           67\n",
       "589                  kaart           66\n",
       "111                bewoner           65\n",
       "616                   kind           64\n",
       "403   functie omschrijving           64\n",
       "874                  nodig           63\n",
       "447                   goed           62\n",
       "1385                  zorg           57\n",
       "266                    dag           51\n",
       "571                   jaar           48\n",
       "187                  buurt           47\n",
       "663              kwetsbaar           47\n",
       "736               maaltijd           43\n",
       "823               mogelijk           42\n",
       "466                 gratis           38\n",
       "1284                 vraag           38"
      ]
     },
     "execution_count": 24,
     "metadata": {},
     "output_type": "execute_result"
    }
   ],
   "source": [
    "encoded_labels_p= model.predict(df_predict['vectors'].to_list())\n",
    "new_labels = enc.inverse_transform(encoded_labels_p)\n",
    "\n",
    "cvec = CountVectorizer(min_df=.0025, max_df=.1, ngram_range=(1,2))\n",
    "cvec.fit(df_result.stemmed)\n",
    "cvec_counts = cvec.transform(df_result.stemmed)\n",
    "\n",
    "print('sparse matrix shape:{}'.format(cvec_counts.shape))\n",
    "print('nonzero count:{}'.format(cvec_counts.nnz))\n",
    "print('sparsity: {}'.format(100.0 * cvec_counts.nnz / (cvec_counts.shape[0] * cvec_counts.shape[1])))\n",
    "\n",
    "occ = np.asarray(cvec_counts.sum(axis=0)).ravel().tolist()\n",
    "counts_df = pd.DataFrame({'term': cvec.get_feature_names(), 'occurrences': occ})\n",
    "counts_df.sort_values(by='occurrences', ascending=False).head(20)"
   ]
  },
  {
   "cell_type": "code",
   "execution_count": 27,
   "metadata": {},
   "outputs": [
    {
     "data": {
      "text/html": [
       "<div>\n",
       "<style scoped>\n",
       "    .dataframe tbody tr th:only-of-type {\n",
       "        vertical-align: middle;\n",
       "    }\n",
       "\n",
       "    .dataframe tbody tr th {\n",
       "        vertical-align: top;\n",
       "    }\n",
       "\n",
       "    .dataframe thead th {\n",
       "        text-align: right;\n",
       "    }\n",
       "</style>\n",
       "<table border=\"1\" class=\"dataframe\">\n",
       "  <thead>\n",
       "    <tr style=\"text-align: right;\">\n",
       "      <th></th>\n",
       "      <th>term</th>\n",
       "      <th>weight</th>\n",
       "    </tr>\n",
       "  </thead>\n",
       "  <tbody>\n",
       "    <tr>\n",
       "      <th>99</th>\n",
       "      <td>boodschap</td>\n",
       "      <td>0.028069</td>\n",
       "    </tr>\n",
       "    <tr>\n",
       "      <th>283</th>\n",
       "      <td>graag</td>\n",
       "      <td>0.023286</td>\n",
       "    </tr>\n",
       "    <tr>\n",
       "      <th>502</th>\n",
       "      <td>nodig</td>\n",
       "      <td>0.021952</td>\n",
       "    </tr>\n",
       "    <tr>\n",
       "      <th>80</th>\n",
       "      <td>bewoner</td>\n",
       "      <td>0.020025</td>\n",
       "    </tr>\n",
       "    <tr>\n",
       "      <th>361</th>\n",
       "      <td>kind</td>\n",
       "      <td>0.019009</td>\n",
       "    </tr>\n",
       "    <tr>\n",
       "      <th>407</th>\n",
       "      <td>leuk</td>\n",
       "      <td>0.018519</td>\n",
       "    </tr>\n",
       "    <tr>\n",
       "      <th>781</th>\n",
       "      <td>week</td>\n",
       "      <td>0.018350</td>\n",
       "    </tr>\n",
       "    <tr>\n",
       "      <th>278</th>\n",
       "      <td>goed</td>\n",
       "      <td>0.016437</td>\n",
       "    </tr>\n",
       "    <tr>\n",
       "      <th>284</th>\n",
       "      <td>gratis</td>\n",
       "      <td>0.015673</td>\n",
       "    </tr>\n",
       "    <tr>\n",
       "      <th>337</th>\n",
       "      <td>jaar</td>\n",
       "      <td>0.015382</td>\n",
       "    </tr>\n",
       "    <tr>\n",
       "      <th>116</th>\n",
       "      <td>buurt</td>\n",
       "      <td>0.015290</td>\n",
       "    </tr>\n",
       "    <tr>\n",
       "      <th>386</th>\n",
       "      <td>kwetsbaar</td>\n",
       "      <td>0.015056</td>\n",
       "    </tr>\n",
       "    <tr>\n",
       "      <th>347</th>\n",
       "      <td>kaart</td>\n",
       "      <td>0.015042</td>\n",
       "    </tr>\n",
       "    <tr>\n",
       "      <th>821</th>\n",
       "      <td>zorg</td>\n",
       "      <td>0.014643</td>\n",
       "    </tr>\n",
       "    <tr>\n",
       "      <th>429</th>\n",
       "      <td>maaltijd</td>\n",
       "      <td>0.014525</td>\n",
       "    </tr>\n",
       "    <tr>\n",
       "      <th>136</th>\n",
       "      <td>contact</td>\n",
       "      <td>0.013553</td>\n",
       "    </tr>\n",
       "    <tr>\n",
       "      <th>521</th>\n",
       "      <td>online</td>\n",
       "      <td>0.013178</td>\n",
       "    </tr>\n",
       "    <tr>\n",
       "      <th>307</th>\n",
       "      <td>hond</td>\n",
       "      <td>0.013002</td>\n",
       "    </tr>\n",
       "    <tr>\n",
       "      <th>314</th>\n",
       "      <td>huis</td>\n",
       "      <td>0.012056</td>\n",
       "    </tr>\n",
       "    <tr>\n",
       "      <th>155</th>\n",
       "      <td>dag</td>\n",
       "      <td>0.011217</td>\n",
       "    </tr>\n",
       "  </tbody>\n",
       "</table>\n",
       "</div>"
      ],
      "text/plain": [
       "          term    weight\n",
       "99   boodschap  0.028069\n",
       "283      graag  0.023286\n",
       "502      nodig  0.021952\n",
       "80     bewoner  0.020025\n",
       "361       kind  0.019009\n",
       "407       leuk  0.018519\n",
       "781       week  0.018350\n",
       "278       goed  0.016437\n",
       "284     gratis  0.015673\n",
       "337       jaar  0.015382\n",
       "116      buurt  0.015290\n",
       "386  kwetsbaar  0.015056\n",
       "347      kaart  0.015042\n",
       "821       zorg  0.014643\n",
       "429   maaltijd  0.014525\n",
       "136    contact  0.013553\n",
       "521     online  0.013178\n",
       "307       hond  0.013002\n",
       "314       huis  0.012056\n",
       "155        dag  0.011217"
      ]
     },
     "execution_count": 27,
     "metadata": {},
     "output_type": "execute_result"
    }
   ],
   "source": [
    "tvec = TfidfVectorizer(min_df=.0025, max_df=.1)\n",
    "tvec_weights = tvec.fit_transform(df_result['stemmed'].dropna())\n",
    "weights = np.asarray(tvec_weights.mean(axis=0)).ravel().tolist()\n",
    "weights_df = pd.DataFrame({'term': tvec.get_feature_names(), 'weight': weights})\n",
    "weights_df.sort_values(by='weight', ascending=False).head(20)"
   ]
  },
  {
   "cell_type": "code",
   "execution_count": null,
   "metadata": {},
   "outputs": [],
   "source": []
  }
 ],
 "metadata": {
  "kernelspec": {
   "display_name": "Python 3",
   "language": "python",
   "name": "python3"
  },
  "language_info": {
   "codemirror_mode": {
    "name": "ipython",
    "version": 3
   },
   "file_extension": ".py",
   "mimetype": "text/x-python",
   "name": "python",
   "nbconvert_exporter": "python",
   "pygments_lexer": "ipython3",
   "version": "3.8.2"
  }
 },
 "nbformat": 4,
 "nbformat_minor": 4
}
