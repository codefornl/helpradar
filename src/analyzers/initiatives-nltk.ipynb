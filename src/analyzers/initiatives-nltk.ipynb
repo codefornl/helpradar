{
 "cells": [
  {
   "cell_type": "code",
   "execution_count": 1,
   "metadata": {},
   "outputs": [],
   "source": [
    "import sqlite3\n",
    "import pandas as pd\n",
    "import nltk\n",
    "from nltk import word_tokenize, sent_tokenize\n",
    "from nltk.stem.snowball import SnowballStemmer\n",
    "import re\n",
    "import numpy as np\n",
    "from sklearn.feature_extraction.text import TfidfTransformer, TfidfVectorizer, CountVectorizer\n",
    "from sklearn.tree import DecisionTreeClassifier\n",
    "from sklearn.preprocessing import LabelEncoder\n",
    "from sklearn.svm import LinearSVC\n",
    "from sklearn.model_selection import train_test_split\n",
    "from matplotlib import pyplot as plt\n",
    "from gensim import corpora\n",
    "import gensim\n",
    "import pickle"
   ]
  },
  {
   "cell_type": "code",
   "execution_count": 5,
   "metadata": {},
   "outputs": [],
   "source": [
    "# nltk.download('stopwords')\n",
    "pd.set_option('display.max_colwidth', None)"
   ]
  },
  {
   "cell_type": "markdown",
   "metadata": {},
   "source": [
    "Discover the data"
   ]
  },
  {
   "cell_type": "code",
   "execution_count": 6,
   "metadata": {},
   "outputs": [],
   "source": [
    "con = sqlite3.connect(\"corona-data.db\")\n",
    "df = pd.read_sql_query(\"SELECT * FROM initiatives\", con, index_col = 'id')"
   ]
  },
  {
   "cell_type": "markdown",
   "metadata": {},
   "source": [
    "NLP preprocessing"
   ]
  },
  {
   "cell_type": "code",
   "execution_count": 7,
   "metadata": {},
   "outputs": [],
   "source": [
    "stopwords = nltk.corpus.stopwords.words('Dutch')\n",
    "stemmer = SnowballStemmer(\"dutch\")"
   ]
  },
  {
   "cell_type": "code",
   "execution_count": 8,
   "metadata": {},
   "outputs": [],
   "source": [
    "def preprocess(x):\n",
    "    x = re.sub( '[^a-z0-9]', ' ', x.lower())                  # get rid of noise\n",
    "    x = [w for w in x.split() if w not in stopwords]  # remove stopwords\n",
    "    return ' '.join(x)    "
   ]
  },
  {
   "cell_type": "code",
   "execution_count": 9,
   "metadata": {},
   "outputs": [],
   "source": [
    "zoekwoorden = {\n",
    "'vraag': [\"demand\", \"vraag\", \"hulpvraag\"],\n",
    "'aanbod' : [\"aangeboden\", \"hulpaanbod\", \"aanbod\"]\n",
    "}\n",
    "    \n",
    "def check_regex(x):\n",
    "    x = re.sub( '[^a-z0-9]', ' ', str(x).lower())\n",
    "    antwoord = []\n",
    "    for label, keywords in zoekwoorden.items():\n",
    "        li = [label for w in x.split() if w in keywords]\n",
    "        if len(li) != 0:\n",
    "            antwoord.append(li[0])\n",
    "    return \" \".join(antwoord)"
   ]
  },
  {
   "cell_type": "code",
   "execution_count": 10,
   "metadata": {},
   "outputs": [],
   "source": [
    "def startpipeline(dataf):\n",
    "    return dataf.copy()\n",
    "\n",
    "def preprocess_data(dataf):\n",
    "    dataf['description'] = dataf['description'].astype(str)\n",
    "    dataf['group'] = dataf['group'].str.lower()\n",
    "    return dataf\n",
    "\n",
    "def add_labels(dataf):\n",
    "    dataf['label'] = dataf['group'].apply(check_regex)\n",
    "#     dataf['label'] = dataf['group'].apply(check_regex, args = (aanbod_woorden, 'aanbod'))\n",
    "    return dataf\n",
    "\n",
    "def nlp_cleaning(dataf):\n",
    "    dataf['clean_description'] = dataf['description'].apply(preprocess)\n",
    "    dataf['stemmed'] = dataf['clean_description'].apply(stemmer.stem)\n",
    "    dataf['tokenized'] = dataf['stemmed'].apply(word_tokenize)\n",
    "    return dataf\n",
    "\n",
    "def tokenize(dataf):\n",
    "    data\n",
    "\n",
    "df_result = (df\n",
    ".pipe(startpipeline)\n",
    ".pipe(preprocess_data)\n",
    ".pipe(add_labels)\n",
    ".pipe(nlp_cleaning))"
   ]
  },
  {
   "cell_type": "code",
   "execution_count": 11,
   "metadata": {},
   "outputs": [
    {
     "data": {
      "text/plain": [
       "<matplotlib.axes._subplots.AxesSubplot at 0x1a247740b38>"
      ]
     },
     "execution_count": 11,
     "metadata": {},
     "output_type": "execute_result"
    },
    {
     "data": {
      "image/png": "[encoded data removed]",
      "text/plain": [
       "<Figure size 432x288 with 1 Axes>"
      ]
     },
     "metadata": {
      "needs_background": "light"
     },
     "output_type": "display_data"
    }
   ],
   "source": [
    "df_result['label'].hist()"
   ]
  },
  {
   "cell_type": "markdown",
   "metadata": {},
   "source": [
    "Classificatie"
   ]
  },
  {
   "cell_type": "code",
   "execution_count": 12,
   "metadata": {},
   "outputs": [],
   "source": [
    "\n",
    "vectoriser = TfidfVectorizer()\n",
    "df_result['vectors'] = list(vectoriser.fit_transform(df_result['stemmed']).toarray())\n"
   ]
  },
  {
   "cell_type": "code",
   "execution_count": 13,
   "metadata": {},
   "outputs": [],
   "source": [
    "df_train = df_result[df_result['label'] != \"\"].copy()\n",
    "df_predict = df_result[df_result['label'] == \"\"].copy()"
   ]
  },
  {
   "cell_type": "code",
   "execution_count": 14,
   "metadata": {},
   "outputs": [
    {
     "data": {
      "text/plain": [
       "array(['aanbod', 'vraag'], dtype=object)"
      ]
     },
     "execution_count": 14,
     "metadata": {},
     "output_type": "execute_result"
    }
   ],
   "source": [
    "enc = LabelEncoder()\n",
    "encoded_labels = enc.fit_transform(df_train['label'])\n",
    "enc.classes_"
   ]
  },
  {
   "cell_type": "code",
   "execution_count": 15,
   "metadata": {},
   "outputs": [],
   "source": [
    "X_train, X_test, y_train, y_test = train_test_split(df_train['vectors'].to_list(), encoded_labels, test_size=0.2)"
   ]
  },
  {
   "cell_type": "code",
   "execution_count": 16,
   "metadata": {},
   "outputs": [],
   "source": [
    "# model = DecisionTreeClassifier()\n",
    "model = LinearSVC()\n",
    "model.fit(X_train, y_train)\n",
    "predictions = model.predict(X_test)"
   ]
  },
  {
   "cell_type": "code",
   "execution_count": 17,
   "metadata": {},
   "outputs": [
    {
     "data": {
      "text/plain": [
       "0.8974358974358975"
      ]
     },
     "execution_count": 17,
     "metadata": {},
     "output_type": "execute_result"
    }
   ],
   "source": [
    "model.score(X_test, y_test)"
   ]
  },
  {
   "cell_type": "markdown",
   "metadata": {},
   "source": [
    "Word2Vec"
   ]
  },
  {
   "cell_type": "code",
   "execution_count": null,
   "metadata": {},
   "outputs": [],
   "source": []
  },
  {
   "cell_type": "code",
   "execution_count": null,
   "metadata": {},
   "outputs": [],
   "source": []
  },
  {
   "cell_type": "code",
   "execution_count": null,
   "metadata": {},
   "outputs": [],
   "source": []
  },
  {
   "cell_type": "markdown",
   "metadata": {},
   "source": [
    "Topic modelling"
   ]
  },
  {
   "cell_type": "markdown",
   "metadata": {},
   "source": [
    "https://towardsdatascience.com/topic-modelling-in-python-with-nltk-and-gensim-4ef03213cd21"
   ]
  },
  {
   "cell_type": "code",
   "execution_count": 18,
   "metadata": {},
   "outputs": [],
   "source": [
    "text_data = df_result['tokenized']\n",
    "dictionary = corpora.Dictionary(text_data)\n",
    "corpus = [dictionary.doc2bow(text) for text in text_data]\n",
    "pickle.dump(corpus, open('corpus.pkl', 'wb'))\n",
    "dictionary.save('dictionary.gensim')"
   ]
  },
  {
   "cell_type": "code",
   "execution_count": 19,
   "metadata": {},
   "outputs": [
    {
     "name": "stdout",
     "output_type": "stream",
     "text": [
      "(0, '0.022*\"non\" + 0.016*\"mensen\" + 0.010*\"we\" + 0.010*\"boodschappen\" + 0.008*\"contact\" + 0.008*\"wij\" + 0.008*\"jij\"')\n",
      "(1, '0.011*\"mensen\" + 0.010*\"hulp\" + 0.010*\"bewoners\" + 0.009*\"leuk\" + 0.007*\"helpen\" + 0.007*\"wij\" + 0.006*\"zoek\"')\n",
      "(2, '0.014*\"wij\" + 0.009*\"we\" + 0.008*\"vrijwilligers\" + 0.006*\"willen\" + 0.005*\"ouderen\" + 0.005*\"corona\" + 0.005*\"maaltijden\"')\n",
      "(3, '0.010*\"we\" + 0.009*\"boodschappen\" + 0.008*\"helpen\" + 0.006*\"onze\" + 0.006*\"zoek\" + 0.005*\"wij\" + 0.005*\"functie\"')\n",
      "(4, '0.014*\"we\" + 0.014*\"ouderen\" + 0.012*\"functie\" + 0.010*\"omschrijving\" + 0.007*\"zorg\" + 0.006*\"mensen\" + 0.006*\"moeten\"')\n"
     ]
    }
   ],
   "source": [
    "\n",
    "# 5 topics\n",
    "NUM_TOPICS = 5\n",
    "ldamodel = gensim.models.ldamodel.LdaModel(corpus, num_topics = NUM_TOPICS, id2word=dictionary, passes=30)\n",
    "ldamodel.save('model5.gensim')\n",
    "topics = ldamodel.print_topics(num_words=7)\n",
    "for topic in topics:\n",
    "    print(topic)"
   ]
  },
  {
   "cell_type": "code",
   "execution_count": 20,
   "metadata": {},
   "outputs": [
    {
     "name": "stdout",
     "output_type": "stream",
     "text": [
      "(0, '0.011*\"mensen\" + 0.010*\"we\" + 0.009*\"helpen\" + 0.008*\"ouderen\"')\n",
      "(1, '0.022*\"non\" + 0.012*\"mensen\" + 0.007*\"onze\" + 0.007*\"wij\"')\n",
      "(2, '0.012*\"we\" + 0.011*\"wij\" + 0.008*\"functie\" + 0.008*\"hulp\"')\n"
     ]
    }
   ],
   "source": [
    "# three topics\n",
    "ldamodel = gensim.models.ldamodel.LdaModel(corpus, num_topics = 3, id2word=dictionary, passes=15)\n",
    "ldamodel.save('model3.gensim')\n",
    "topics = ldamodel.print_topics(num_words=4)\n",
    "for topic in topics:\n",
    "    print(topic)"
   ]
  },
  {
   "cell_type": "code",
   "execution_count": 21,
   "metadata": {},
   "outputs": [
    {
     "name": "stdout",
     "output_type": "stream",
     "text": [
      "(0, '0.012*\"mensen\" + 0.011*\"we\" + 0.011*\"wij\" + 0.009*\"omschrijving\"')\n",
      "(1, '0.009*\"vrijwilligers\" + 0.008*\"willen\" + 0.007*\"nederlandse\" + 0.006*\"wij\"')\n",
      "(2, '0.028*\"we\" + 0.028*\"ouderen\" + 0.013*\"kaart\" + 0.012*\"tekening\"')\n",
      "(3, '0.017*\"boodschappen\" + 0.011*\"we\" + 0.011*\"corona\" + 0.010*\"hulp\"')\n",
      "(4, '0.011*\"hulp\" + 0.009*\"mensen\" + 0.006*\"vrijwilliger\" + 0.005*\"kinderen\"')\n",
      "(5, '0.013*\"boodschappen\" + 0.010*\"functie\" + 0.009*\"graag\" + 0.009*\"omschrijving\"')\n",
      "(6, '0.016*\"we\" + 0.016*\"wij\" + 0.014*\"mensen\" + 0.011*\"hulp\"')\n",
      "(7, '0.011*\"mensen\" + 0.009*\"boodschappen\" + 0.008*\"contact\" + 0.008*\"hulp\"')\n",
      "(8, '0.086*\"non\" + 0.017*\"mensen\" + 0.013*\"buurt\" + 0.012*\"maken\"')\n",
      "(9, '0.018*\"onze\" + 0.010*\"wij\" + 0.009*\"functie\" + 0.008*\"mevrouw\"')\n"
     ]
    }
   ],
   "source": [
    "ldamodel = gensim.models.ldamodel.LdaModel(corpus, num_topics = 10, id2word=dictionary, passes=15)\n",
    "ldamodel.save('model10.gensim')\n",
    "topics = ldamodel.print_topics(num_words=4)\n",
    "for topic in topics:\n",
    "    print(topic)"
   ]
  },
  {
   "cell_type": "code",
   "execution_count": null,
   "metadata": {},
   "outputs": [],
   "source": [
    "TFIDF"
   ]
  },
  {
   "cell_type": "code",
   "execution_count": 61,
   "metadata": {},
   "outputs": [
    {
     "name": "stdout",
     "output_type": "stream",
     "text": [
      "sparse matrix shape:(738, 2576)\n",
      "nonzero count:13872\n",
      "sparsity: 0.7296874210978135\n"
     ]
    },
    {
     "data": {
      "text/html": [
       "<div>\n",
       "<style scoped>\n",
       "    .dataframe tbody tr th:only-of-type {\n",
       "        vertical-align: middle;\n",
       "    }\n",
       "\n",
       "    .dataframe tbody tr th {\n",
       "        vertical-align: top;\n",
       "    }\n",
       "\n",
       "    .dataframe thead th {\n",
       "        text-align: right;\n",
       "    }\n",
       "</style>\n",
       "<table border=\"1\" class=\"dataframe\">\n",
       "  <thead>\n",
       "    <tr style=\"text-align: right;\">\n",
       "      <th></th>\n",
       "      <th>term</th>\n",
       "      <th>occurrences</th>\n",
       "    </tr>\n",
       "  </thead>\n",
       "  <tbody>\n",
       "    <tr>\n",
       "      <th>1707</th>\n",
       "      <td>ouderen</td>\n",
       "      <td>99</td>\n",
       "    </tr>\n",
       "    <tr>\n",
       "      <th>1639</th>\n",
       "      <td>onze</td>\n",
       "      <td>88</td>\n",
       "    </tr>\n",
       "    <tr>\n",
       "      <th>446</th>\n",
       "      <td>contact</td>\n",
       "      <td>85</td>\n",
       "    </tr>\n",
       "    <tr>\n",
       "      <th>2296</th>\n",
       "      <td>vrijwilligers</td>\n",
       "      <td>82</td>\n",
       "    </tr>\n",
       "    <tr>\n",
       "      <th>843</th>\n",
       "      <td>graag</td>\n",
       "      <td>76</td>\n",
       "    </tr>\n",
       "    <tr>\n",
       "      <th>2430</th>\n",
       "      <td>willen</td>\n",
       "      <td>70</td>\n",
       "    </tr>\n",
       "    <tr>\n",
       "      <th>2066</th>\n",
       "      <td>tijd</td>\n",
       "      <td>70</td>\n",
       "    </tr>\n",
       "    <tr>\n",
       "      <th>1362</th>\n",
       "      <td>maken</td>\n",
       "      <td>68</td>\n",
       "    </tr>\n",
       "    <tr>\n",
       "      <th>1072</th>\n",
       "      <td>jij</td>\n",
       "      <td>67</td>\n",
       "    </tr>\n",
       "    <tr>\n",
       "      <th>1283</th>\n",
       "      <td>leuk</td>\n",
       "      <td>65</td>\n",
       "    </tr>\n",
       "    <tr>\n",
       "      <th>723</th>\n",
       "      <td>functie omschrijving</td>\n",
       "      <td>64</td>\n",
       "    </tr>\n",
       "    <tr>\n",
       "      <th>909</th>\n",
       "      <td>heel</td>\n",
       "      <td>59</td>\n",
       "    </tr>\n",
       "    <tr>\n",
       "      <th>1148</th>\n",
       "      <td>kinderen</td>\n",
       "      <td>58</td>\n",
       "    </tr>\n",
       "    <tr>\n",
       "      <th>2210</th>\n",
       "      <td>via</td>\n",
       "      <td>54</td>\n",
       "    </tr>\n",
       "    <tr>\n",
       "      <th>284</th>\n",
       "      <td>bewoners</td>\n",
       "      <td>54</td>\n",
       "    </tr>\n",
       "    <tr>\n",
       "      <th>1398</th>\n",
       "      <td>mee</td>\n",
       "      <td>54</td>\n",
       "    </tr>\n",
       "    <tr>\n",
       "      <th>733</th>\n",
       "      <td>gaan</td>\n",
       "      <td>53</td>\n",
       "    </tr>\n",
       "    <tr>\n",
       "      <th>1567</th>\n",
       "      <td>nodig</td>\n",
       "      <td>53</td>\n",
       "    </tr>\n",
       "    <tr>\n",
       "      <th>2359</th>\n",
       "      <td>week</td>\n",
       "      <td>51</td>\n",
       "    </tr>\n",
       "    <tr>\n",
       "      <th>2543</th>\n",
       "      <td>zorg</td>\n",
       "      <td>51</td>\n",
       "    </tr>\n",
       "  </tbody>\n",
       "</table>\n",
       "</div>"
      ],
      "text/plain": [
       "                      term  occurrences\n",
       "1707  ouderen               99         \n",
       "1639  onze                  88         \n",
       "446   contact               85         \n",
       "2296  vrijwilligers         82         \n",
       "843   graag                 76         \n",
       "2430  willen                70         \n",
       "2066  tijd                  70         \n",
       "1362  maken                 68         \n",
       "1072  jij                   67         \n",
       "1283  leuk                  65         \n",
       "723   functie omschrijving  64         \n",
       "909   heel                  59         \n",
       "1148  kinderen              58         \n",
       "2210  via                   54         \n",
       "284   bewoners              54         \n",
       "1398  mee                   54         \n",
       "733   gaan                  53         \n",
       "1567  nodig                 53         \n",
       "2359  week                  51         \n",
       "2543  zorg                  51         "
      ]
     },
     "execution_count": 61,
     "metadata": {},
     "output_type": "execute_result"
    }
   ],
   "source": [
    "encoded_labels_p= model.predict(df_predict['vectors'].to_list())\n",
    "new_labels = enc.inverse_transform(encoded_labels_p)\n",
    "\n",
    "cvec = CountVectorizer(min_df=.0025, max_df=.1, ngram_range=(1,2))\n",
    "cvec.fit(df_result.stemmed)\n",
    "cvec_counts = cvec.transform(df_result.stemmed)\n",
    "\n",
    "print('sparse matrix shape:{}'.format(cvec_counts.shape))\n",
    "print('nonzero count:{}'.format(cvec_counts.nnz))\n",
    "print('sparsity: {}'.format(100.0 * cvec_counts.nnz / (cvec_counts.shape[0] * cvec_counts.shape[1])))\n",
    "\n",
    "occ = np.asarray(cvec_counts.sum(axis=0)).ravel().tolist()\n",
    "counts_df = pd.DataFrame({'term': cvec.get_feature_names(), 'occurrences': occ})\n",
    "counts_df.sort_values(by='occurrences', ascending=False).head(20)"
   ]
  },
  {
   "cell_type": "code",
   "execution_count": 124,
   "metadata": {},
   "outputs": [
    {
     "data": {
      "text/html": [
       "<div>\n",
       "<style scoped>\n",
       "    .dataframe tbody tr th:only-of-type {\n",
       "        vertical-align: middle;\n",
       "    }\n",
       "\n",
       "    .dataframe tbody tr th {\n",
       "        vertical-align: top;\n",
       "    }\n",
       "\n",
       "    .dataframe thead th {\n",
       "        text-align: right;\n",
       "    }\n",
       "</style>\n",
       "<table border=\"1\" class=\"dataframe\">\n",
       "  <thead>\n",
       "    <tr style=\"text-align: right;\">\n",
       "      <th></th>\n",
       "      <th>term</th>\n",
       "      <th>weight</th>\n",
       "    </tr>\n",
       "  </thead>\n",
       "  <tbody>\n",
       "    <tr>\n",
       "      <th>723</th>\n",
       "      <td>functie omschrijving</td>\n",
       "      <td>0.016123</td>\n",
       "    </tr>\n",
       "    <tr>\n",
       "      <th>2296</th>\n",
       "      <td>vrijwilligers</td>\n",
       "      <td>0.013357</td>\n",
       "    </tr>\n",
       "    <tr>\n",
       "      <th>1707</th>\n",
       "      <td>ouderen</td>\n",
       "      <td>0.012749</td>\n",
       "    </tr>\n",
       "    <tr>\n",
       "      <th>843</th>\n",
       "      <td>graag</td>\n",
       "      <td>0.012740</td>\n",
       "    </tr>\n",
       "    <tr>\n",
       "      <th>1639</th>\n",
       "      <td>onze</td>\n",
       "      <td>0.012385</td>\n",
       "    </tr>\n",
       "    <tr>\n",
       "      <th>1567</th>\n",
       "      <td>nodig</td>\n",
       "      <td>0.011577</td>\n",
       "    </tr>\n",
       "    <tr>\n",
       "      <th>284</th>\n",
       "      <td>bewoners</td>\n",
       "      <td>0.011293</td>\n",
       "    </tr>\n",
       "    <tr>\n",
       "      <th>854</th>\n",
       "      <td>gratis</td>\n",
       "      <td>0.010835</td>\n",
       "    </tr>\n",
       "    <tr>\n",
       "      <th>401</th>\n",
       "      <td>buurt</td>\n",
       "      <td>0.010763</td>\n",
       "    </tr>\n",
       "    <tr>\n",
       "      <th>2066</th>\n",
       "      <td>tijd</td>\n",
       "      <td>0.010542</td>\n",
       "    </tr>\n",
       "    <tr>\n",
       "      <th>2430</th>\n",
       "      <td>willen</td>\n",
       "      <td>0.010458</td>\n",
       "    </tr>\n",
       "    <tr>\n",
       "      <th>446</th>\n",
       "      <td>contact</td>\n",
       "      <td>0.010426</td>\n",
       "    </tr>\n",
       "    <tr>\n",
       "      <th>2522</th>\n",
       "      <td>zoeken</td>\n",
       "      <td>0.010258</td>\n",
       "    </tr>\n",
       "    <tr>\n",
       "      <th>1148</th>\n",
       "      <td>kinderen</td>\n",
       "      <td>0.009955</td>\n",
       "    </tr>\n",
       "    <tr>\n",
       "      <th>1622</th>\n",
       "      <td>online</td>\n",
       "      <td>0.009629</td>\n",
       "    </tr>\n",
       "    <tr>\n",
       "      <th>2210</th>\n",
       "      <td>via</td>\n",
       "      <td>0.009360</td>\n",
       "    </tr>\n",
       "    <tr>\n",
       "      <th>1873</th>\n",
       "      <td>samen</td>\n",
       "      <td>0.009334</td>\n",
       "    </tr>\n",
       "    <tr>\n",
       "      <th>145</th>\n",
       "      <td>amsterdam</td>\n",
       "      <td>0.009281</td>\n",
       "    </tr>\n",
       "    <tr>\n",
       "      <th>2359</th>\n",
       "      <td>week</td>\n",
       "      <td>0.009158</td>\n",
       "    </tr>\n",
       "    <tr>\n",
       "      <th>1362</th>\n",
       "      <td>maken</td>\n",
       "      <td>0.009080</td>\n",
       "    </tr>\n",
       "  </tbody>\n",
       "</table>\n",
       "</div>"
      ],
      "text/plain": [
       "                      term    weight\n",
       "723   functie omschrijving  0.016123\n",
       "2296  vrijwilligers         0.013357\n",
       "1707  ouderen               0.012749\n",
       "843   graag                 0.012740\n",
       "1639  onze                  0.012385\n",
       "1567  nodig                 0.011577\n",
       "284   bewoners              0.011293\n",
       "854   gratis                0.010835\n",
       "401   buurt                 0.010763\n",
       "2066  tijd                  0.010542\n",
       "2430  willen                0.010458\n",
       "446   contact               0.010426\n",
       "2522  zoeken                0.010258\n",
       "1148  kinderen              0.009955\n",
       "1622  online                0.009629\n",
       "2210  via                   0.009360\n",
       "1873  samen                 0.009334\n",
       "145   amsterdam             0.009281\n",
       "2359  week                  0.009158\n",
       "1362  maken                 0.009080"
      ]
     },
     "execution_count": 124,
     "metadata": {},
     "output_type": "execute_result"
    }
   ],
   "source": [
    "weights = np.asarray(transformed_weights.mean(axis=0)).ravel().tolist()\n",
    "weights_df = pd.DataFrame({'term': cvec.get_feature_names(), 'weight': weights})\n",
    "weights_df.sort_values(by='weight', ascending=False).head(20)"
   ]
  },
  {
   "cell_type": "code",
   "execution_count": 127,
   "metadata": {},
   "outputs": [
    {
     "data": {
      "text/html": [
       "<div>\n",
       "<style scoped>\n",
       "    .dataframe tbody tr th:only-of-type {\n",
       "        vertical-align: middle;\n",
       "    }\n",
       "\n",
       "    .dataframe tbody tr th {\n",
       "        vertical-align: top;\n",
       "    }\n",
       "\n",
       "    .dataframe thead th {\n",
       "        text-align: right;\n",
       "    }\n",
       "</style>\n",
       "<table border=\"1\" class=\"dataframe\">\n",
       "  <thead>\n",
       "    <tr style=\"text-align: right;\">\n",
       "      <th></th>\n",
       "      <th>term</th>\n",
       "      <th>weight</th>\n",
       "    </tr>\n",
       "  </thead>\n",
       "  <tbody>\n",
       "    <tr>\n",
       "      <th>1419</th>\n",
       "      <td>vrijwilligers</td>\n",
       "      <td>0.015798</td>\n",
       "    </tr>\n",
       "    <tr>\n",
       "      <th>1032</th>\n",
       "      <td>ouderen</td>\n",
       "      <td>0.015461</td>\n",
       "    </tr>\n",
       "    <tr>\n",
       "      <th>540</th>\n",
       "      <td>graag</td>\n",
       "      <td>0.015311</td>\n",
       "    </tr>\n",
       "    <tr>\n",
       "      <th>987</th>\n",
       "      <td>onze</td>\n",
       "      <td>0.014541</td>\n",
       "    </tr>\n",
       "    <tr>\n",
       "      <th>945</th>\n",
       "      <td>nodig</td>\n",
       "      <td>0.013618</td>\n",
       "    </tr>\n",
       "    <tr>\n",
       "      <th>192</th>\n",
       "      <td>bewoners</td>\n",
       "      <td>0.012864</td>\n",
       "    </tr>\n",
       "    <tr>\n",
       "      <th>279</th>\n",
       "      <td>contact</td>\n",
       "      <td>0.012736</td>\n",
       "    </tr>\n",
       "    <tr>\n",
       "      <th>1522</th>\n",
       "      <td>zoeken</td>\n",
       "      <td>0.012557</td>\n",
       "    </tr>\n",
       "    <tr>\n",
       "      <th>1475</th>\n",
       "      <td>willen</td>\n",
       "      <td>0.012522</td>\n",
       "    </tr>\n",
       "    <tr>\n",
       "      <th>249</th>\n",
       "      <td>buurt</td>\n",
       "      <td>0.012388</td>\n",
       "    </tr>\n",
       "    <tr>\n",
       "      <th>1271</th>\n",
       "      <td>tijd</td>\n",
       "      <td>0.012187</td>\n",
       "    </tr>\n",
       "    <tr>\n",
       "      <th>703</th>\n",
       "      <td>kinderen</td>\n",
       "      <td>0.011821</td>\n",
       "    </tr>\n",
       "    <tr>\n",
       "      <th>542</th>\n",
       "      <td>gratis</td>\n",
       "      <td>0.011606</td>\n",
       "    </tr>\n",
       "    <tr>\n",
       "      <th>777</th>\n",
       "      <td>leuk</td>\n",
       "      <td>0.011165</td>\n",
       "    </tr>\n",
       "    <tr>\n",
       "      <th>833</th>\n",
       "      <td>maken</td>\n",
       "      <td>0.011127</td>\n",
       "    </tr>\n",
       "    <tr>\n",
       "      <th>1142</th>\n",
       "      <td>samen</td>\n",
       "      <td>0.010927</td>\n",
       "    </tr>\n",
       "    <tr>\n",
       "      <th>1366</th>\n",
       "      <td>via</td>\n",
       "      <td>0.010810</td>\n",
       "    </tr>\n",
       "    <tr>\n",
       "      <th>1442</th>\n",
       "      <td>week</td>\n",
       "      <td>0.010529</td>\n",
       "    </tr>\n",
       "    <tr>\n",
       "      <th>976</th>\n",
       "      <td>online</td>\n",
       "      <td>0.010469</td>\n",
       "    </tr>\n",
       "    <tr>\n",
       "      <th>657</th>\n",
       "      <td>jaar</td>\n",
       "      <td>0.010287</td>\n",
       "    </tr>\n",
       "  </tbody>\n",
       "</table>\n",
       "</div>"
      ],
      "text/plain": [
       "               term    weight\n",
       "1419  vrijwilligers  0.015798\n",
       "1032  ouderen        0.015461\n",
       "540   graag          0.015311\n",
       "987   onze           0.014541\n",
       "945   nodig          0.013618\n",
       "192   bewoners       0.012864\n",
       "279   contact        0.012736\n",
       "1522  zoeken         0.012557\n",
       "1475  willen         0.012522\n",
       "249   buurt          0.012388\n",
       "1271  tijd           0.012187\n",
       "703   kinderen       0.011821\n",
       "542   gratis         0.011606\n",
       "777   leuk           0.011165\n",
       "833   maken          0.011127\n",
       "1142  samen          0.010927\n",
       "1366  via            0.010810\n",
       "1442  week           0.010529\n",
       "976   online         0.010469\n",
       "657   jaar           0.010287"
      ]
     },
     "execution_count": 127,
     "metadata": {},
     "output_type": "execute_result"
    }
   ],
   "source": [
    "tvec = TfidfVectorizer(min_df=.0025, max_df=.1)\n",
    "tvec_weights = tvec.fit_transform(df_result['stemmed'].dropna())\n",
    "weights = np.asarray(tvec_weights.mean(axis=0)).ravel().tolist()\n",
    "weights_df = pd.DataFrame({'term': tvec.get_feature_names(), 'weight': weights})\n",
    "weights_df.sort_values(by='weight', ascending=False).head(20)"
   ]
  },
  {
   "cell_type": "code",
   "execution_count": 18,
   "metadata": {},
   "outputs": [
    {
     "name": "stdout",
     "output_type": "stream",
     "text": [
      "id\n",
      "1      {'talloze': 1, 'instellingen': 1, 'thuiszorgorganisaties': 1, 'ziekenhuizen': 1, 'kort': 1, 'spatbrillen': 1, 'vuurwerkbrillen': 1, 'veiligheidsbrillen': 1, 'voldoen': 1, 'oproep': 1, 'brillen': 1, 'doneren': 1, 'strijd': 1, 'corona': 1, 'hulpvraag': 1, 'zoeken': 1, 'we': 1, 'meerdere': 1, 'held': 1}                                                                                                                                                                                                                                                                                                                            \n",
      "2      {'hoi': 1, 'mede': 1, 'helden': 1, 'dochter': 1, '31': 1, 'maart': 1, 'particuliere': 1, 'woning': 1, 'contract': 1, 'verloopt': 1, 'zeker': 1, 'tijd': 1, 'niks': 1, 'krijgen': 1, 'volgens': 1, 'woningbouw': 1, 'urgent': 1, 'bent': 1, 'kent': 1, 'omgeving': 1, 'koop': 1, 'huis': 1, 'leeg': 1, 'staan': 2, 'westelijke': 1, 'mijnstreek': 1, 'huren': 1, 'korte': 1, 'periode': 1, 'neem': 1, 'aub': 1, 'contact': 1, 'anders': 1, '11': 1, 'dagen': 1, 'straat': 1, '3': 1, 'kleine': 1, 'kinderen': 1, '2': 1, '1': 1, '0': 1, 'jaar': 1, 'dank': 1, 'groot': 1, 'hulpvraag': 1, 'zoeken': 1, 'we': 1, 'meerdere': 1, 'held': 1}\n",
      "3      {'zoek': 1, 'meneer': 1, 'zaltbommel': 1, '1x': 2, 'week': 1, '2': 1, 'weken': 1, 'grote': 1, 'zware': 1, 'boodschappen': 1, 'halen': 1, 'jumbo': 1, 'dhr': 1, 'chronisch': 1, 'ziek': 1, 'beter': 1, 'supermarkt': 1, 'gaat': 1, 'hulpvraag': 1, 'zoeken': 1, 'we': 1, 'meerdere': 1, 'held': 1}                                                                                                                                                                                                                                                                                                                                        \n",
      "4      {'thuiszorgorganisatie': 1, 'amstelring': 1, 'wijkzorg': 1, 'dringend': 1, 'zoek': 1, 'beschermingsmateriaal': 1, 'wegwerphandschoenen': 1, 'schorten': 1, 'lange': 1, 'mouwen': 1, 'mondmaskers': 1, 'keurmerk': 1, 'ffp1': 1, 'ffp2': 1, 'ffp3': 1, 'handalcohol': 1, 'veiligheidsbrillen': 1, 'welkom': 1, 'hulpvraag': 1, 'zoeken': 1, 'we': 1, 'meerdere': 1, 'held': 1}                                                                                                                                                                                                                                                            \n",
      "5      {'wij': 1, 'zoeken': 2, 'voedselbank': 1, 'producten': 1, 'virus': 1, 'onze': 2, 'vaste': 1, 'leveranciers': 1, 'flink': 1, 'afgenomen': 1, 'helpen': 1, 'voedsel': 1, 'pakketten': 1, 'hulpvraag': 1, 'we': 1, 'meerdere': 1, 'held': 1}                                                                                                                                                                                                                                                                                                                                                                                                \n",
      "                                                                                                                         ...                                                                                                                                                                                                                                                                                                                                                                                                                                                                                                                    \n",
      "734    {'mocht': 1, 'hulp': 1, 'nodig': 1, 'halen': 1, 'medicijnen': 1, 'boodschappen': 1, 'kleine': 1, 'hulpvragen': 1, 'risicogroep': 1, 'valt': 1, 'moment': 1, 'liever': 1, 'deur': 1, 'ui': 1}                                                                                                                                                                                                                                                                                                                                                                                                                                             \n",
      "735    {'beste': 1, 'buurt': 1, 'stadsgenoten': 1, 'mensen': 1, 'hulp': 1, 'gebruiken': 1, 'bijvoorbeeld': 1, 'boodschappen': 1, 'doktersbezoek': 1, 'hond': 1, 'uitlaten': 1, 'bied': 1, 'graag': 1, 'dienst': 1}                                                                                                                                                                                                                                                                                                                                                                                                                              \n",
      "736    {'hulp': 1, 'nodig': 2, 'oppas': 1, 'kinderen': 1, 'zodat': 1, 'jij': 1, 'werken': 1, 'winkel': 1, 'brief': 1, 'post': 1, 'pakketje': 1, 'afgegeven': 1, 'kun': 1}                                                                                                                                                                                                                                                                                                                                                                                                                                                                       \n",
      "737    {'niels': 1, 'leenders': 1, '19': 1, 'jaar': 2, 'begonnen': 1, 'studie': 1, 'geografie': 1, 'planologie': 1, 'milieu': 1, 'radboud': 1, 'universiteit': 2, 'nijmegen': 1, 'woon': 1, 'ver': 1}                                                                                                                                                                                                                                                                                                                                                                                                                                           \n",
      "738    {'woont': 1, 'nijmegen': 1, 'oost': 1, 'omgeving': 1, 'bent': 1, 'vrouw': 1, 'inkomen': 1, 'sociaal': 1, 'minimum': 1, 'wilt': 1, 'jezelf': 2, 'verder': 1, 'ontwikkelen': 1, 'beter': 1, 'leren': 1, 'kennen': 1, 'vera': 1}                                                                                                                                                                                                                                                                                                                                                                                                            \n",
      "Name: tokenized, Length: 738, dtype: object\n"
     ]
    }
   ],
   "source": [
    "print(fdist)"
   ]
  },
  {
   "cell_type": "code",
   "execution_count": 222,
   "metadata": {},
   "outputs": [
    {
     "ename": "AttributeError",
     "evalue": "'Series' object has no attribute 'most_common'",
     "output_type": "error",
     "traceback": [
      "\u001b[1;31m---------------------------------------------------------------------------\u001b[0m",
      "\u001b[1;31mAttributeError\u001b[0m                            Traceback (most recent call last)",
      "\u001b[1;32m<ipython-input-222-420a9d4c1b41>\u001b[0m in \u001b[0;36m<module>\u001b[1;34m\u001b[0m\n\u001b[1;32m----> 1\u001b[1;33m \u001b[0mfdist\u001b[0m\u001b[1;33m.\u001b[0m\u001b[0mmost_common\u001b[0m\u001b[1;33m(\u001b[0m\u001b[1;36m5\u001b[0m\u001b[1;33m)\u001b[0m\u001b[1;33m\u001b[0m\u001b[1;33m\u001b[0m\u001b[0m\n\u001b[0m",
      "\u001b[1;32mc:\\users\\datascientist1\\appdata\\local\\programs\\python\\python37\\lib\\site-packages\\pandas\\core\\generic.py\u001b[0m in \u001b[0;36m__getattr__\u001b[1;34m(self, name)\u001b[0m\n\u001b[0;32m   4374\u001b[0m         ...                   index=index)\n\u001b[0;32m   4375\u001b[0m         \u001b[1;33m>>\u001b[0m\u001b[1;33m>\u001b[0m \u001b[0mdf\u001b[0m\u001b[1;33m\u001b[0m\u001b[1;33m\u001b[0m\u001b[0m\n\u001b[1;32m-> 4376\u001b[1;33m                    \u001b[0mhttp_status\u001b[0m  \u001b[0mresponse_time\u001b[0m\u001b[1;33m\u001b[0m\u001b[1;33m\u001b[0m\u001b[0m\n\u001b[0m\u001b[0;32m   4377\u001b[0m         \u001b[0mFirefox\u001b[0m            \u001b[1;36m200\u001b[0m           \u001b[1;36m0.04\u001b[0m\u001b[1;33m\u001b[0m\u001b[1;33m\u001b[0m\u001b[0m\n\u001b[0;32m   4378\u001b[0m         \u001b[0mChrome\u001b[0m             \u001b[1;36m200\u001b[0m           \u001b[1;36m0.02\u001b[0m\u001b[1;33m\u001b[0m\u001b[1;33m\u001b[0m\u001b[0m\n",
      "\u001b[1;31mAttributeError\u001b[0m: 'Series' object has no attribute 'most_common'"
     ]
    }
   ],
   "source": [
    "fdist.most_common(5)"
   ]
  },
  {
   "cell_type": "code",
   "execution_count": null,
   "metadata": {},
   "outputs": [],
   "source": []
  }
 ],
 "metadata": {
  "kernelspec": {
   "display_name": "Python 3",
   "language": "python",
   "name": "python3"
  },
  "language_info": {
   "codemirror_mode": {
    "name": "ipython",
    "version": 3
   },
   "file_extension": ".py",
   "mimetype": "text/x-python",
   "name": "python",
   "nbconvert_exporter": "python",
   "pygments_lexer": "ipython3",
   "version": "3.7.1"
  }
 },
 "nbformat": 4,
 "nbformat_minor": 4
}
